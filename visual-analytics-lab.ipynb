{
 "cells": [
  {
   "cell_type": "markdown",
   "metadata": {},
   "source": [
    "### Import and Configuration:"
   ]
  },
  {
   "cell_type": "code",
   "execution_count": null,
   "metadata": {
    "collapsed": true
   },
   "outputs": [],
   "source": [
    "import numpy as np\n",
    "import pandas as pd\n",
    "import random\n",
    "import matplotlib.pyplot as plt\n",
    "from wordcloud import WordCloud\n",
    "\n",
    "from IPython.core.display import display, HTML\n",
    "display(HTML(\"<style>.container { width:95% !important; }</style>\"))\n",
    "\n",
    "random.seed(149)"
   ]
  },
  {
   "cell_type": "code",
   "execution_count": null,
   "metadata": {},
   "outputs": [],
   "source": [
    "def loaddata():\n",
    "    return pd.read_csv('food_coded.csv')\n",
    "data = loaddata()"
   ]
  },
  {
   "cell_type": "markdown",
   "metadata": {},
   "source": [
    "## Preprocessing:"
   ]
  },
  {
   "cell_type": "markdown",
   "metadata": {},
   "source": [
    "#### Employment:"
   ]
  },
  {
   "cell_type": "code",
   "execution_count": null,
   "metadata": {},
   "outputs": [],
   "source": [
    "# employment, sample from prob dist and fill the missing values\n",
    "probibility = data['employment'].value_counts() / data['employment'].value_counts().sum().tolist()\n",
    "count_of_nas = pd.isna(data['employment']).sum()\n",
    "values = probibility.cumsum().searchsorted(np.random.uniform(size=count_of_nas))\n",
    "for i in xrange(len(values)):\n",
    "    if values[i] == 0: values[i] = 2\n",
    "    elif values[i] == 1: values[i] = 3\n",
    "    else: values[i] = 1\n",
    "index = 0\n",
    "for i in xrange(len(data.employment)):\n",
    "    if pd.isnull(data.iloc[i].employment):\n",
    "        data.loc[i, 'employment'] = values[index]\n",
    "        index += 1"
   ]
  },
  {
   "cell_type": "markdown",
   "metadata": {},
   "source": [
    "#### Sports:\n",
    "\n",
    "We took a look on the students' answers and compiled a list of their sports, then replaced their text answers with a comma seperated list of the sports they played. Morever, we replaced any other answers like \"I don't play sports\" and \"not really\" with an NA"
   ]
  },
  {
   "cell_type": "code",
   "execution_count": null,
   "metadata": {
    "collapsed": true
   },
   "outputs": [],
   "source": [
    "sports = ['car racing', 'basketball', 'softball', 'soccer', 'field hockey', 'running', 'volleyball', 'hockey', \\\n",
    "          'dancing', 'tennis', 'gym', 'football', 'lacrosse', 'snowboarding', 'wrestling', 'rowing', 'skiing', \\\n",
    "          'water polo', 'baseball', 'horse back riding', 'golf']\n",
    "sports.sort(key=len, reverse=True)\n",
    "#print data.type_sports.value_counts().sample(frac=1).head(15)\n",
    "def func(x):\n",
    "    output = ''\n",
    "    for sport in sports:\n",
    "        if pd.isnull(x): continue\n",
    "        x = x.lower()\n",
    "        if x.find(sport) != -1:\n",
    "            output += sport + ','\n",
    "            x.replace(sport, '')\n",
    "    if len(output) == 0: return 'None'\n",
    "    return output[:-1]\n",
    "data.type_sports = data.type_sports.apply(func=func)\n",
    "\n",
    "#print \"\\n\\nAfter Processing:\\n\", data.type_sports.value_counts().head(15)\n",
    "#print(data.type_sports.isnull().sum()) changed nans to none "
   ]
  },
  {
   "cell_type": "markdown",
   "metadata": {},
   "source": [
    "## Plots:\n",
    "### First descriptive statistics:"
   ]
  },
  {
   "cell_type": "code",
   "execution_count": null,
   "metadata": {
    "collapsed": true
   },
   "outputs": [],
   "source": [
    "def bar_chart(attribute, ticks_values,label):\n",
    "    plt.clf()\n",
    "    plt.rcParams['figure.figsize'] = (7,7)\n",
    "    y = data[attribute].value_counts()\n",
    "    N = len(y)\n",
    "    x = range(N)\n",
    "    width = 0.5\n",
    "    plt.bar(x, y, width, color=\"lightcoral\" )\n",
    "    plt.xlabel(label, fontsize=16)\n",
    "    plt.ylabel('Count', fontsize=16)\n",
    "    plt.tick_params(axis='both',which='major', labelsize=15)\n",
    "    index = ind = np.arange(len(x)) \n",
    "    \n",
    "    plt.xticks(index, ticks_values)\n",
    "\n",
    "    plt.tight_layout()\n",
    "    plt.show()\n",
    "\n",
    "bar_chart('grade_level',('freshman' ,'Sophomore' ,'Junior' ,'Senior'),'Grade level')\n",
    "bar_chart('diet_current_coded',('healthy' ,'unhelathy' ,'same thing' ,'unclear'),'current diet')\n",
    "bar_chart('eating_changes_coded',('worse' ,'better' ,'same' ,'unclear'),'eating changes coded')\n"
   ]
  },
  {
   "cell_type": "code",
   "execution_count": null,
   "metadata": {
    "collapsed": true
   },
   "outputs": [],
   "source": [
    "#todo add label to the graph ?\n",
    "\n",
    "def word_cloud(attribute,title):\n",
    "    wordcloud = WordCloud(background_color='white' ).generate(str(data[attribute]))\n",
    "    plt.rcParams['figure.figsize'] = (12,10)\n",
    "    plt.imshow(wordcloud)\n",
    "    plt.title(title)\n",
    "    plt.axis('off')\n",
    "    plt.show()\n",
    "word_cloud('comfort_food','Comfort Food')\n",
    "word_cloud('comfort_food_reasons', 'Comfort Food Reasons')\n",
    "word_cloud('food_childhood', 'Favorite food in childhood')\n",
    "word_cloud('type_sports', 'Type of sport practiced')"
   ]
  },
  {
   "cell_type": "code",
   "execution_count": null,
   "metadata": {},
   "outputs": [],
   "source": [
    "# TODO: Remove useless columns: non-coded columns\n",
    "#columns_we7sha = [\"life_rewarding\", \"comfort_food_reasons_coded\", \"comfort_food_reasons\"]"
   ]
  },
  {
   "cell_type": "code",
   "execution_count": null,
   "metadata": {
    "collapsed": true
   },
   "outputs": [],
   "source": [
    "data = loaddata()\n",
    "\n",
    "x_attribute = 'GPA'\n",
    "y_attribute = 'eating_out'\n",
    "\n",
    "def boxplot(attribute):\n",
    "    plt.figure(dpi=100, figsize=(10,10))\n",
    "    plt.rc('axes', axisbelow=True)\n",
    "    plt.boxplot([list(data.query('Gender==1')[attribute].dropna()), list(data.query('Gender==2')[attribute].dropna())], labels=[\"Male\", \"Female\"])\n",
    "    plt.rc('axes', axisbelow=True)\n",
    "#     plt.boxplot()\n",
    "    plt.xlabel(attribute)\n",
    "    plt.show()\n",
    "\n",
    "def bubble_chart(x_attribute, x_ticks, y_attribute, y_ticks, size):\n",
    "    plt.clf()\n",
    "    plt.rcParams['figure.figsize'] = (25,15)\n",
    "    fig, ax = plt.subplots()\n",
    "    \n",
    "    x_axis = data[x_attribute].round(decimals=1).dropna().unique()\n",
    "    for mark in x_axis:\n",
    "        y_axis =  data.query('%s == %f' % (x_attribute, mark))[y_attribute].dropna().unique()\n",
    "        y_axis.sort()\n",
    "        s = [(size * 20 * len(data.query('%s == %f & %s == %f' % (x_attribute, mark, y_attribute, i) ))) ** 2 for i in y_axis]\n",
    "        x = [mark]*len(y_axis)\n",
    "        plt.scatter(x, y_axis, s = s, color=\"#00ace6\", alpha=0.6,edgecolors=\"black\", linewidth=2)\n",
    "\n",
    "    # plt.rcParams[\"figure.figsize\"] = (15, 20)\n",
    "    if len(y_ticks) == 0:\n",
    "        y_ticks = data[y_attribute].round(decimals=1).dropna().unique()\n",
    "    plt.yticks(range(len(y_ticks)), y_ticks)\n",
    "#     ax.set_yticklabels(y_ticks)\n",
    "\n",
    "#     plt.yticks(y_ticks)\n",
    "    plt.tick_params\n",
    "    if len(x_ticks) != 0:\n",
    "        ax.set_xticklabels(x_ticks)\n",
    "    plt.ylabel(y_attribute, fontsize= 16)\n",
    "    plt.xlabel(x_attribute, fontsize= 16)\n",
    "    plt.tick_params(axis='both', which='major', labelsize=15)\n",
    "    plt.margins(0.1)\n",
    "    plt.show()\n",
    "\n",
    "    \n",
    "def grouped_barchart(x_attribute, x_labels, y_attribute, legend, legend_title, plot_title=''):\n",
    "    plt.clf()\n",
    "    plt.rcParams['figure.figsize'] = (25,10)\n",
    "    fig, ax = plt.subplots()\n",
    "\n",
    "    x_axis_unique = data[x_attribute].round(decimals=1).dropna().unique()\n",
    "    x_axis_unique.sort()\n",
    "\n",
    "    y_axis_unique = data[y_attribute].round(decimals=1).dropna().unique()\n",
    "    y_axis_unique.sort()\n",
    "\n",
    "    ind = np.arange(len(x_axis_unique))    # the x locations for the groups\n",
    "    width = 0.17                           # the width of the bars\n",
    "    likert_colors = ['firebrick','lightcoral','grey','cornflowerblue', 'darkblue']\n",
    "    for i in xrange(len(y_axis_unique)):\n",
    "        y = y_axis_unique[i]\n",
    "        counts = []\n",
    "        for x in x_axis_unique:\n",
    "            counts += [len(data.query('%s == %f & %s == %f' % (x_attribute, x, y_attribute, y)))]\n",
    "        plt.bar(ind + i*width, counts, width, bottom=0, color=likert_colors[i])\n",
    "    \n",
    "    if plot_title == '': plot_title = ('%s vs %s' % (x_attribute.replace('_', ' '), y_attribute.replace('_', ' ')))\n",
    "    ax.set_title(plot_title,  fontsize=20)\n",
    "    ax.set_xticks(ind + 4*width / 2)\n",
    "    ax.set_xticklabels(x_labels)\n",
    "#     ax.legend((p1[0], p2[0]), ('Men', 'Women'))\n",
    "    plt.xlabel(x_attribute, fontsize=20)\n",
    "    plt.ylabel('Count', fontsize=20)\n",
    "    plt.tick_params(axis='both', which='major', labelsize=15)\n",
    "    plt_legend = plt.legend(legend, title=legend_title, fontsize=15)\n",
    "    plt_legend.get_title().set_fontsize('15')\n",
    "    plt.show()\n",
    "\n",
    "\n",
    "# grouped_barchart('eating_out', ['Never', '1-2 times', '2-3 times', '3-5 times', 'everyday'], 'nutritional_check', ['Never', 'on certain products only', 'very rarely', 'on most products', 'on everything'], 'How Often do you Check Nutrition')\n",
    "# grouped_barchart('eating_out', ['Never', '1-2 times', '2-3 times', '3-5 times', 'everyday'], 'on_off_campus', ['On campus', 'rent out of campus', 'with parents', 'own house'], 'Accommodation', 'Students accommodation and eating out habbits')\n",
    "bubble_chart('weight', [], 'fav_cuisine_coded', [\"none\", \"Italian/French/greek\", \"Spanish/mexican\", \"Arabic/Turkish\", \"asian/chineses/thai/nepal\", \"American\", \"African\", \"Jamaican\", \"indian\"]\n",
    "\n",
    ", 0.8)\n",
    "boxplot('weight')"
   ]
  },
  {
   "cell_type": "code",
   "execution_count": null,
   "metadata": {
    "collapsed": true
   },
   "outputs": [],
   "source": [
    "fig, ax = plt.subplots(figsize=(15, 7))\n",
    "data.groupby(by=('fav_cuisine_coded', 'weight')).count().unstack().plot(ax=ax)\n"
   ]
  },
  {
   "cell_type": "code",
   "execution_count": null,
   "metadata": {},
   "outputs": [],
   "source": [
    "data[\"counter\"] = 1\n",
    "d = data.groupby(['fav_cuisine_coded', 'weight']).sum()\n",
    "e = d.counter\n",
    "# print d.loc[:, ['fav_cuisine_coded', 'weight', 'counter']].reset_index()\n",
    "final = d.reset_index().loc[:, ['fav_cuisine_coded', 'weight', 'counter']]\n",
    "\n",
    "# print final\n",
    "# plt.scatter(final.fav_cuisine_coded, final.weight)\n",
    "# print final\n",
    "# plt.show()\n",
    "# plt.show()"
   ]
  },
  {
   "cell_type": "code",
   "execution_count": null,
   "metadata": {
    "collapsed": true
   },
   "outputs": [],
   "source": [
    "plt.clf()\n",
    "plt.rcParams['figure.figsize'] = (10,10)\n",
    "likert_colors = ['white', 'firebrick','lightcoral','gainsboro','cornflowerblue', 'darkblue']\n",
    "dummy = pd.DataFrame([[1,2,3,4, 5], [5,6,7,8, 5], [10, 4, 2, 10, 5]],\n",
    "                     columns=[\"SD\", \"D\", \"N\", \"A\", \"SA\"],\n",
    "                    index=[\"Key 1\", \"Key B\", \"Key III\"])\n",
    "middles = dummy[[\"SD\", \"D\"]].sum(axis=1)+dummy[\"N\"]*.5\n",
    "longest = middles.max()\n",
    "dummy.insert(0, '', (middles - longest).abs())\n",
    "\n",
    "dummy.plot.barh(color=likert_colors, edgecolor='none', legend=False)\n",
    "z = plt.axvline(longest, linestyle='-', color='black', alpha=0.5)\n",
    "z.set_zorder(-1)\n",
    "\n",
    "complete_longest = 30\n",
    "plt.xlim(0, complete_longest)\n",
    "xvalues = range(0,complete_longest,10)\n",
    "xlabels = [str(x-longest) for x in xvalues]\n",
    "plt.xticks(xvalues, xlabels)\n",
    "plt.show()\n"
   ]
  },
  {
   "cell_type": "code",
   "execution_count": null,
   "metadata": {
    "collapsed": true
   },
   "outputs": [],
   "source": [
    "#data.loc[:,['weight','self_perception_weight']]"
   ]
  },
  {
   "cell_type": "code",
   "execution_count": null,
   "metadata": {
    "collapsed": true
   },
   "outputs": [],
   "source": [
    "# [data.fav_cuisine_coded.tolist().count(i) for i in data.fav_cuisine_coded.unique()]\n",
    "# data.fav_cuisine_coded.value_counts()\n",
    "#data.columns.tolist()\n",
    "class_data = pd.DataFrame(data.loc[:,['GPA',\n",
    " 'Gender',\n",
    " 'breakfast',\n",
    " 'calories_chicken',\n",
    " 'calories_scone',\n",
    " 'coffee',\n",
    " 'cook',\n",
    " 'comfort_food_reasons_coded',\n",
    " 'cuisine',\n",
    " 'diet_current_coded',\n",
    " 'drink',\n",
    " 'eating_changes_coded',\n",
    " 'eating_changes_coded1',\n",
    " 'eating_out',\n",
    " 'employment',\n",
    " 'ethnic_food',\n",
    " 'exercise',\n",
    " 'father_education',\n",
    " 'fav_cuisine_coded',\n",
    " 'fav_food',\n",
    " 'fries',\n",
    " 'fruit_day',\n",
    " 'grade_level',\n",
    " 'greek_food',\n",
    " 'healthy_feeling',\n",
    " 'ideal_diet_coded',\n",
    " 'income',\n",
    " 'indian_food',\n",
    " 'italian_food',\n",
    " 'life_rewarding',\n",
    " 'marital_status',\n",
    " 'mother_education',\n",
    " 'nutritional_check',\n",
    " 'on_off_campus',\n",
    " 'parents_cook',\n",
    " 'pay_meal_out',\n",
    " 'persian_food',\n",
    " 'self_perception_weight',\n",
    " 'soup',\n",
    " 'sports',\n",
    " 'thai_food',\n",
    " 'tortilla_calories',\n",
    " 'turkey_calories',\n",
    " 'veggies_day',\n",
    " 'waffle_calories',\n",
    " 'weight']])\n",
    "\n",
    "weight_mean = np.nanmean(data['weight'])\n",
    "class_data.weight = class_data.weight.fillna(weight_mean)\n",
    "\n",
    "# GPA_mode = data['GPA'].mode()\n",
    "# print(sum(class_data.GPA.isna().fillna(GPA_mode)))\n",
    "\n",
    "from sklearn.decomposition import PCA\n",
    "pca =  PCA(n_components=2)\n",
    "# class_data.\n",
    "\n",
    "for col in class_data.columns:\n",
    "    #print sum(class_data[col].isnull())\n",
    "    class_data.loc[:,col] = class_data[col].fillna(class_data[col].mode()[0])\n",
    "#     print sum(class_data[col].isnull())\n",
    "# class_data.isnull().sum()\n",
    "\n",
    "fit = pca.fit(class_data).transform(class_data)\n",
    "\n",
    "mat = fit.transpose()\n",
    "plt.scatter(mat[0], mat[1])\n",
    "plt.show()\n",
    "#fit.components_[0]"
   ]
  },
  {
   "cell_type": "code",
   "execution_count": null,
   "metadata": {
    "collapsed": true
   },
   "outputs": [],
   "source": [
    "import seaborn as sns\n",
    "from sklearn.cluster import KMeans\n",
    "from IPython.html.widgets import interact\n",
    "colors = sns.color_palette(n_colors=10)\n",
    "\n",
    "\n",
    "#mds_pos = mds.fit(data.data).embedding_\n",
    "\n",
    "@interact(n_clusters=(1,10))\n",
    "def draw_plot(n_clusters):\n",
    "    instance = KMeans(n_clusters=n_clusters, random_state = 102)\n",
    "    clusters_assignment = instance.fit_predict(class_data)\n",
    "    plt.scatter(mat[0], mat[1], s=20, c=[colors[i] for i in clusters_assignment])\n",
    "    plt.show()"
   ]
  },
  {
   "cell_type": "code",
   "execution_count": null,
   "metadata": {},
   "outputs": [],
   "source": [
    "#TODO\n",
    "# cusine & weight\n",
    "# current diet & eating changes\n",
    "# weight & eating out\n",
    "# weight & exercise \n",
    "# nutritional_check\n",
    "# on_off_campu\n",
    "# parents_cook\n",
    "# sports"
   ]
  },
  {
   "cell_type": "code",
   "execution_count": null,
   "metadata": {},
   "outputs": [],
   "source": []
  }
 ],
 "metadata": {
  "kernelspec": {
   "display_name": "Python 2",
   "language": "python",
   "name": "python2"
  },
  "language_info": {
   "codemirror_mode": {
    "name": "ipython",
    "version": 2
   },
   "file_extension": ".py",
   "mimetype": "text/x-python",
   "name": "python",
   "nbconvert_exporter": "python",
   "pygments_lexer": "ipython2",
   "version": "2.7.13"
  }
 },
 "nbformat": 4,
 "nbformat_minor": 2
}
