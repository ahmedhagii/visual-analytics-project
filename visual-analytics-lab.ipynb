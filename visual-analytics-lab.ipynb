{
 "cells": [
  {
   "cell_type": "markdown",
   "metadata": {},
   "source": [
    "### Import and Configuration:"
   ]
  },
  {
   "cell_type": "code",
   "execution_count": 8,
   "metadata": {},
   "outputs": [
    {
     "data": {
      "text/html": [
       "<style>.container { width:95% !important; }</style>"
      ],
      "text/plain": [
       "<IPython.core.display.HTML object>"
      ]
     },
     "metadata": {},
     "output_type": "display_data"
    }
   ],
   "source": [
    "import numpy as np\n",
    "import pandas as pd\n",
    "import random\n",
    "import matplotlib.pyplot as plt\n",
    "\n",
    "from IPython.core.display import display, HTML\n",
    "display(HTML(\"<style>.container { width:95% !important; }</style>\"))\n",
    "\n",
    "random.seed(149)"
   ]
  },
  {
   "cell_type": "code",
   "execution_count": 3,
   "metadata": {
    "collapsed": true
   },
   "outputs": [],
   "source": [
    "def loaddata():\n",
    "    return pd.read_csv('food_coded.csv')\n",
    "data = loaddata()"
   ]
  },
  {
   "cell_type": "markdown",
   "metadata": {},
   "source": [
    "## Preprocessing:"
   ]
  },
  {
   "cell_type": "markdown",
   "metadata": {},
   "source": [
    "#### Employment:"
   ]
  },
  {
   "cell_type": "code",
   "execution_count": 21,
   "metadata": {},
   "outputs": [],
   "source": [
    "# employment, sample from prob dist and fill the missing values\n",
    "probibility = data['employment'].value_counts() / data['employment'].value_counts().sum().tolist()\n",
    "count_of_nas = pd.isna(data['employment']).sum()\n",
    "values = probibility.cumsum().searchsorted(np.random.uniform(size=count_of_nas))\n",
    "for i in xrange(len(values)):\n",
    "    if values[i] == 0: values[i] = 2\n",
    "    elif values[i] == 1: values[i] = 3\n",
    "    else: values[i] = 1\n",
    "index = 0\n",
    "for i in xrange(len(data.employment)):\n",
    "    if pd.isnull(data.iloc[i].employment):\n",
    "        data.loc[i, 'employment'] = values[index]\n",
    "        index += 1"
   ]
  },
  {
   "cell_type": "markdown",
   "metadata": {},
   "source": [
    "#### Sports:\n",
    "\n",
    "We took a look on the students' answers and compiled a list of their sports, then replaced their text answers with a comma seperated list of the sports they played. Morever, we replaced any other answers like \"I don't play sports\" and \"not really\" with an NA"
   ]
  },
  {
   "cell_type": "code",
   "execution_count": 24,
   "metadata": {},
   "outputs": [
    {
     "name": "stdout",
     "output_type": "stream",
     "text": [
      "No, I don't play sport.                     1\n",
      " None                                       1\n",
      "wrestling                                   1\n",
      "hockey, soccer, golf                        1\n",
      "basketball                                  1\n",
      "rowing                                      1\n",
      "softball and basketball                     1\n",
      "Football, Basketball, Volleyball, Golf      1\n",
      "Recreational Basketball, Equestrian Team    1\n",
      "Fotball                                     1\n",
      "Hockey                                      7\n",
      "Running                                     1\n",
      "Collegiate Water Polo                       1\n",
      "Basketball                                  2\n",
      "field hockey                                2\n",
      "Name: type_sports, dtype: int64\n",
      "\n",
      "\n",
      "After Processing:\n",
      "hockey                 12\n",
      "softball               9 \n",
      "soccer                 8 \n",
      "volleyball             7 \n",
      "basketball             6 \n",
      "wrestling              4 \n",
      "lacrosse               4 \n",
      "tennis                 3 \n",
      "skiing                 3 \n",
      "field hockey,hockey    2 \n",
      "running                2 \n",
      "dancing                2 \n",
      "volleyball,lacrosse    1 \n",
      "baseball               1 \n",
      "soccer,tennis,gym      1 \n",
      "Name: type_sports, dtype: int64\n"
     ]
    }
   ],
   "source": [
    "sports = ['car racing', 'basketball', 'softball', 'soccer', 'field hockey', 'running', 'volleyball', 'hockey', \\\n",
    "          'dancing', 'tennis', 'gym', 'football', 'lacrosse', 'snowboarding', 'wrestling', 'rowing', 'skiing', \\\n",
    "          'water polo', 'baseball', 'horse back riding', 'golf']\n",
    "sports.sort(key=len, reverse=True)\n",
    "print data.type_sports.value_counts().sample(frac=1).head(15)\n",
    "def func(x):\n",
    "    output = ''\n",
    "    for sport in sports:\n",
    "        if pd.isnull(x): continue\n",
    "        x = x.lower()\n",
    "        if x.find(sport) != -1:\n",
    "            output += sport + ','\n",
    "            x.replace(sport, '')\n",
    "    if len(output) == 0: return np.NaN\n",
    "    return output[:-1]\n",
    "data.type_sports = data.type_sports.apply(func=func)\n",
    "\n",
    "print \"\\n\\nAfter Processing:\\n\", data.type_sports.value_counts().head(15)"
   ]
  },
  {
   "cell_type": "markdown",
   "metadata": {},
   "source": [
    "### Plots:"
   ]
  },
  {
   "cell_type": "code",
   "execution_count": 76,
   "metadata": {
    "collapsed": true
   },
   "outputs": [],
   "source": [
    "# TODO: Remove useless columns: non-coded columns\n",
    "columns_we7sha = [\"life_rewarding\", \"comfort_food_reasons_coded\", \"comfort_food_reasons\"]"
   ]
  },
  {
   "cell_type": "code",
   "execution_count": 60,
   "metadata": {
    "scrolled": false
   },
   "outputs": [
    {
     "data": {
      "image/png": "[encoded data removed]",
      "text/plain": [
       "<matplotlib.figure.Figure at 0x1017c73d0>"
      ]
     },
     "metadata": {},
     "output_type": "display_data"
    }
   ],
   "source": [
    "data = loaddata()\n",
    "\n",
    "x_attribute = 'GPA'\n",
    "y_attribute = 'eating_out'\n",
    "\n",
    "def boxplot(attribute):\n",
    "    plt.figure(dpi=100, figsize=(10,10))\n",
    "    plt.rc('axes', axisbelow=True)\n",
    "    plt.boxplot([list(data.query('Gender==1')[attribute].dropna()), list(data.query('Gender==2')[attribute].dropna())], labels=[\"Male\", \"Female\"])\n",
    "    plt.rc('axes', axisbelow=True)\n",
    "#     plt.boxplot()\n",
    "    plt.xlabel(attribute)\n",
    "    plt.show()\n",
    "\n",
    "def bubble_chart(x_attribute, y_attribute):    \n",
    "    plt.figure(dpi=100, figsize=(25,15))\n",
    "    \n",
    "    x_axis = data[x_attribute].round(decimals=1).dropna().unique()\n",
    "    for mark in x_axis:\n",
    "        y_axis =  data.query('%s == %f' % (x_attribute, mark))[y_attribute].dropna().unique()\n",
    "        s = [(20 * len(data.query('%s == %f & %s == %f' % (x_attribute, mark, y_attribute, i) ))) ** 2 for i in y_axis]\n",
    "        plt.scatter([mark]*len(y_axis), y_axis, s = s)\n",
    "\n",
    "    # plt.rcParams[\"figure.figsize\"] = (15, 20)\n",
    "    y_ticks = data[y_attribute].round(decimals=1).dropna().unique()\n",
    "    plt.yticks(y_ticks)\n",
    "    plt.ylabel(y_attribute, fontsize= 16)\n",
    "    plt.xlabel(x_attribute, fontsize= 16)\n",
    "    plt.margins(0.1)\n",
    "    plt.legend(x_axis)\n",
    "#     plt.legend(handler= x_axis[1:3])\n",
    "    plt.figure(dpi=40)\n",
    "    plt.show()\n",
    "\n",
    "    \n",
    "def grouped_barchart(x_attribute, y_attribute):\n",
    "    fig, ax = plt.subplots()\n",
    "    cm = 1\n",
    "    inch = 1.2\n",
    "    \n",
    "    x_axis_unique = data[x_attribute].round(decimals=1).dropna().unique()\n",
    "    y_axis_unique = data[y_attribute].round(decimals=1).dropna().unique()\n",
    "#     menMeans = (150*cm, 160*cm, 146*cm, 172*cm, 155*cm)\n",
    "#     menStd = (20*cm, 30*cm, 32*cm, 10*cm, 20*cm)\n",
    "    \n",
    "    x_axis = \n",
    "    for x in x_axis_unique:\n",
    "        y_axis =  data.query('%s == %f' % (x_attribute, mark))[y_attribute].dropna().unique()\n",
    "    \n",
    "    ind = np.arange(len(x_axis))    # the x locations for the groups\n",
    "    width = 0.35         # the width of the bars\n",
    "    p1 = ax.bar(ind, x_axis, width, color='r', bottom=0*cm, yerr=menStd)\n",
    "\n",
    "\n",
    "    womenMeans = (145*cm, 149*cm, 172*cm, 165*cm, 200*cm)\n",
    "    womenStd = (30*cm, 25*cm, 20*cm, 31*cm, 22*cm)\n",
    "    p2 = ax.bar(ind + width, womenMeans, width,\n",
    "                color='y', bottom=0*cm, yerr=womenStd)\n",
    "\n",
    "    ax.set_title('Scores by group and gender')\n",
    "    ax.set_xticks(ind + width / 2)\n",
    "    ax.set_xticklabels(('G1', 'G2', 'G3', 'G4', 'G5'))\n",
    "\n",
    "    ax.legend((p1[0], p2[0]), ('Men', 'Women'))\n",
    "    ax.yaxis.set_units(inch)\n",
    "    ax.figsize = (10, 10)\n",
    "    ax.autoscale_view()\n",
    "\n",
    "    plt.show()\n",
    "\n",
    "grouped_barchart()\n",
    "# bubble_chart('GPA', 'employment')\n",
    "# boxplot('weight')"
   ]
  },
  {
   "cell_type": "code",
   "execution_count": 50,
   "metadata": {},
   "outputs": [
    {
     "name": "stdout",
     "output_type": "stream",
     "text": [
      "76 49\n"
     ]
    }
   ],
   "source": [
    "print len(data.query('Gender == 1')), len(data.query('Gender == 2'))"
   ]
  },
  {
   "cell_type": "code",
   "execution_count": 104,
   "metadata": {
    "collapsed": true
   },
   "outputs": [
    {
     "data": {
      "text/plain": [
       "array(['profesor ', 'Self employed ', 'owns business', 'Mechanic ', 'IT',\n",
       "       'Taxi Driver', 'Assembler ', 'Business guy',\n",
       "       'High School Principal', 'commissioner of erie county ', 'Idk',\n",
       "       'Home Marker ', 'Shirt designer ', 'business owner',\n",
       "       'Commidity trader ', 'Hockey Coach', 'Construction ',\n",
       "       'self employed construction ', 'Engineer', 'architect', 'CFO',\n",
       "       'European logistics director ', 'accountant ',\n",
       "       'Commercial Real Estate', 'Manager at Pepsi', 'VP of ',\n",
       "       'Beverage and Food Sales', 'Dentist ', 'Electrical Engineer',\n",
       "       'Radio Telecommunications Manager', nan, 'deceased', 'Lawyer',\n",
       "       'landscaping ', 'Vice President of a company',\n",
       "       'Owns his own promotional company ', 'Optometrist ',\n",
       "       'Biohemical Waste Elimination', 'Corporate Manager ',\n",
       "       'Small business owner ', 'Welder', 'Design Engineer', 'Unknown ',\n",
       "       'Banker', 'subcontractor ', 'small business owner ',\n",
       "       'House Appraiser', 'not sure', 'Fireman',\n",
       "       'President of Automotive company ', 'UPS driver ',\n",
       "       'HVAC Professional', 'Sergeant correctional officer',\n",
       "       'union worker', 'Salesman', 'Owns his business',\n",
       "       'Physical Therapist', 'Insurance ', 'Construction management ',\n",
       "       'Dead beat ', 'police force', 'VP of GNC',\n",
       "       'Owner of New York Lunch', 'Dentist', 'mechanic ', 'Truck Driver ',\n",
       "       'Sales Manager ', 'Retired - Bus Driver', 'Transportation ',\n",
       "       'Police Officer', 'Risk Manager', 'retire', 'car salesman',\n",
       "       'dairy farmer', 'Dairy Farmer ', 'self employed',\n",
       "       'Contract negotiations', 'Police Officer ', 'Works for Kirila Fire',\n",
       "       'Realtor', 'Solar Engineering ', 'Service Technition', 'engineer ',\n",
       "       'handyman', 'cross-guard ', 'Project manager', 'Teacher',\n",
       "       'Truck Driver', 'Senior Manager', 'information systems architect',\n",
       "       'Supervisor', 'Delivery Man For Fritolay', 'Business Owner',\n",
       "       'Beacon Light ', 'salesman', 'Mechanical Engineer', 'GE Salesman',\n",
       "       'Ford Plant employee', 'Clinical Researcher', 'Retired ', 'Sales',\n",
       "       'School Library Media Specialist ', 'Retired',\n",
       "       'Mechanical Engineer ', 'Politician', 'Pharmaceutical',\n",
       "       'Business Man', 'His own business', 'HVAC technician ',\n",
       "       'United Nations', 'Accountant ', 'Doctor', 'CEO of company',\n",
       "       'Store manager at Giant Eagle', 'Journalist'], dtype=object)"
      ]
     },
     "execution_count": 104,
     "metadata": {},
     "output_type": "execute_result"
    }
   ],
   "source": [
    "data.father_profession.unique()"
   ]
  }
 ],
 "metadata": {
  "kernelspec": {
   "display_name": "Python 2",
   "language": "python",
   "name": "python2"
  },
  "language_info": {
   "codemirror_mode": {
    "name": "ipython",
    "version": 2
   },
   "file_extension": ".py",
   "mimetype": "text/x-python",
   "name": "python",
   "nbconvert_exporter": "python",
   "pygments_lexer": "ipython2",
   "version": "2.7.13"
  }
 },
 "nbformat": 4,
 "nbformat_minor": 2
}
