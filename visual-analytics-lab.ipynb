{
 "cells": [
  {
   "cell_type": "markdown",
   "metadata": {},
   "source": [
    "### Import and Configuration:"
   ]
  },
  {
   "cell_type": "code",
   "execution_count": null,
   "metadata": {},
   "outputs": [],
   "source": [
    "import numpy as np\n",
    "import pandas as pd\n",
    "import random\n",
    "import matplotlib.pyplot as plt\n",
    "from wordcloud import WordCloud\n",
    "\n",
    "from IPython.core.display import display, HTML\n",
    "display(HTML(\"<style>.container { width:95% !important; }</style>\"))\n",
    "\n",
    "random.seed(149)"
   ]
  },
  {
   "cell_type": "code",
   "execution_count": null,
   "metadata": {
    "collapsed": true
   },
   "outputs": [],
   "source": [
    "def loaddata():\n",
    "    return pd.read_csv('food_coded.csv')\n",
    "data = loaddata()"
   ]
  },
  {
   "cell_type": "markdown",
   "metadata": {},
   "source": [
    "## Preprocessing:"
   ]
  },
  {
   "cell_type": "markdown",
   "metadata": {},
   "source": [
    "#### Employment:"
   ]
  },
  {
   "cell_type": "code",
   "execution_count": null,
   "metadata": {
    "collapsed": true
   },
   "outputs": [],
   "source": [
    "# employment, sample from prob dist and fill the missing values\n",
    "probibility = data['employment'].value_counts() / data['employment'].value_counts().sum().tolist()\n",
    "count_of_nas = pd.isna(data['employment']).sum()\n",
    "values = probibility.cumsum().searchsorted(np.random.uniform(size=count_of_nas))\n",
    "for i in xrange(len(values)):\n",
    "    if values[i] == 0: values[i] = 2\n",
    "    elif values[i] == 1: values[i] = 3\n",
    "    else: values[i] = 1\n",
    "index = 0\n",
    "for i in xrange(len(data.employment)):\n",
    "    if pd.isnull(data.iloc[i].employment):\n",
    "        data.loc[i, 'employment'] = values[index]\n",
    "        index += 1"
   ]
  },
  {
   "cell_type": "markdown",
   "metadata": {},
   "source": [
    "#### Sports:\n",
    "\n",
    "We took a look on the students' answers and compiled a list of their sports, then replaced their text answers with a comma seperated list of the sports they played. Morever, we replaced any other answers like \"I don't play sports\" and \"not really\" with an NA"
   ]
  },
  {
   "cell_type": "code",
   "execution_count": null,
   "metadata": {},
   "outputs": [],
   "source": [
    "sports = ['car racing', 'basketball', 'softball', 'soccer', 'field hockey', 'running', 'volleyball', 'hockey', \\\n",
    "          'dancing', 'tennis', 'gym', 'football', 'lacrosse', 'snowboarding', 'wrestling', 'rowing', 'skiing', \\\n",
    "          'water polo', 'baseball', 'horse back riding', 'golf']\n",
    "sports.sort(key=len, reverse=True)\n",
    "print data.type_sports.value_counts().sample(frac=1).head(15)\n",
    "def func(x):\n",
    "    output = ''\n",
    "    for sport in sports:\n",
    "        if pd.isnull(x): continue\n",
    "        x = x.lower()\n",
    "        if x.find(sport) != -1:\n",
    "            output += sport + ','\n",
    "            x.replace(sport, '')\n",
    "    if len(output) == 0: return 'None'\n",
    "    return output[:-1]\n",
    "data.type_sports = data.type_sports.apply(func=func)\n",
    "\n",
    "print \"\\n\\nAfter Processing:\\n\", data.type_sports.value_counts().head(15)\n",
    "#print(data.type_sports.isnull().sum()) changed nans to none "
   ]
  },
  {
   "cell_type": "markdown",
   "metadata": {},
   "source": [
    "## Plots:\n",
    "### First descriptive statistics:"
   ]
  },
  {
   "cell_type": "code",
   "execution_count": null,
   "metadata": {},
   "outputs": [],
   "source": [
    "def bar_chart(attribute, ticks_values,label):\n",
    "    y = data[attribute].value_counts()\n",
    "    N = len(y)\n",
    "    x = range(N)\n",
    "    width = 0.5\n",
    "    plt.bar(x, y, width, color=\"#ffbb99\" )\n",
    "    plt.xlabel(label)\n",
    "    plt.ylabel('Count')\n",
    "    index = ind = np.arange(len(x)) \n",
    "    plt.xticks(index + width / 2, ticks_values)\n",
    "\n",
    "    plt.tight_layout()\n",
    "    plt.show()\n",
    "\n",
    "bar_chart('grade_level',('freshman' ,'Sophomore' ,'Junior' ,'Senior'),'Grade level')\n",
    "bar_chart('diet_current_coded',('healthy' ,'unhelathy' ,'same thing' ,'unclear'),'current diet')\n",
    "\n",
    "bar_chart('eating_changes_coded',('worse' ,'better' ,'same' ,'unclear'),'eating changes coded')\n"
   ]
  },
  {
   "cell_type": "code",
   "execution_count": null,
   "metadata": {},
   "outputs": [],
   "source": [
    "#todo add label to the graph ?\n",
    "\n",
    "def word_cloud(attribute):\n",
    "    wordcloud = WordCloud(background_color='white' ).generate(str(data[attribute]))\n",
    "    plt.rcParams['figure.figsize'] = (12,10)\n",
    "    plt.imshow(wordcloud)\n",
    "    plt.axis('off')\n",
    "    plt.show()\n",
    "word_cloud('comfort_food')\n",
    "word_cloud('comfort_food_reasons')\n",
    "word_cloud('food_childhood')\n",
    "word_cloud('type_sports')"
   ]
  },
  {
   "cell_type": "code",
   "execution_count": null,
   "metadata": {},
   "outputs": [],
   "source": [
    "#not sure if important\n",
    "data.boxplot('GPA')\n",
    "plt.show()"
   ]
  },
  {
   "cell_type": "code",
   "execution_count": null,
   "metadata": {
    "collapsed": true
   },
   "outputs": [],
   "source": [
    "# TODO: Remove useless columns: non-coded columns\n",
    "#columns_we7sha = [\"life_rewarding\", \"comfort_food_reasons_coded\", \"comfort_food_reasons\"]"
   ]
  },
  {
   "cell_type": "code",
   "execution_count": null,
   "metadata": {
    "scrolled": false
   },
   "outputs": [],
   "source": [
    "#data = loaddata()\n",
    "\n",
    "#x_attribute = 'GPA'\n",
    "#y_attribute = 'eating_out'\n",
    "\n",
    "def boxplot(attribute):\n",
    "    plt.figure(dpi=100, figsize=(10,10))\n",
    "    plt.rc('axes', axisbelow=True)\n",
    "    plt.boxplot([list(data.query('Gender==1')[attribute].dropna()), list(data.query('Gender==2')[attribute].dropna())], labels=[\"Male\", \"Female\"])\n",
    "    plt.rc('axes', axisbelow=True)\n",
    "    plt.xlabel(attribute)\n",
    "    plt.show()\n",
    "\n",
    "def bubble_chart(x_attribute, y_attribute):    \n",
    "    plt.figure(dpi=100, figsize=(25,15))\n",
    "    \n",
    "    x_axis = data[x_attribute].round(decimals=1).dropna().unique()\n",
    "    for mark in x_axis:\n",
    "        y_axis =  data.query('%s == %f' % (x_attribute, mark))[y_attribute].dropna().unique()\n",
    "        s = [(20 * len(data.query('%s == %f & %s == %f' % (x_attribute, mark, y_attribute, i) ))) ** 2 for i in y_axis]\n",
    "        x = [mark]*len(y_axis)\n",
    "        plt.scatter(x, y_axis, s = s, color=\"#00ace6\", alpha=0.6,edgecolors=\"black\", linewidth=2)\n",
    "\n",
    "    y_ticks = data[y_attribute].round(decimals=1).dropna().unique()\n",
    "    plt.yticks(y_ticks)\n",
    "    plt.ylabel(y_attribute, fontsize= 16)\n",
    "    plt.xlabel(x_attribute, fontsize= 16)\n",
    "    plt.margins(0.1)\n",
    "    #plt.legend(x_axis)\n",
    "    plt.figure(dpi=30)\n",
    "    plt.show()\n",
    "\n",
    "    \n",
    "#def grouped_barchart(x_attribute, y_attribute):\n",
    "#    fig, ax = plt.subplots()\n",
    "#    cm = 1\n",
    "#    inch = 1.2\n",
    "    \n",
    "#    x_axis_unique = data[x_attribute].round(decimals=1).dropna().unique()\n",
    "#    y_axis_unique = data[y_attribute].round(decimals=1).dropna().unique()\n",
    "    \n",
    "#    for x in x_axis_unique:\n",
    "#        y_axis =  data.query('%s == %f' % (x_attribute, mark))[y_attribute].dropna().unique()\n",
    "    \n",
    "#    ind = np.arange(len(x_axis))    # the x locations for the groups\n",
    "#    width = 0.35         # the width of the bars\n",
    "#    p1 = ax.bar(ind, x_axis, width, color='r', bottom=0*cm, yerr=menStd)\n",
    "\n",
    "\n",
    "#    womenMeans = (145*cm, 149*cm, 172*cm, 165*cm, 200*cm)\n",
    "#    womenStd = (30*cm, 25*cm, 20*cm, 31*cm, 22*cm)\n",
    "#    p2 = ax.bar(ind + width, womenMeans, width,\n",
    "#                color='y', bottom=0*cm, yerr=womenStd)\n",
    "\n",
    "#    ax.set_title('Scores by group and gender')\n",
    "#    ax.set_xticks(ind + width / 2)\n",
    "#    ax.set_xticklabels(('G1', 'G2', 'G3', 'G4', 'G5'))\n",
    "\n",
    "#    ax.legend((p1[0], p2[0]), ('Men', 'Women'))\n",
    "#    ax.yaxis.set_units(inch)\n",
    "#    ax.figsize = (10, 10)\n",
    "#    ax.autoscale_view()\n",
    "\n",
    "#    plt.show()\n",
    "\n",
    "#grouped_barchart()\n",
    "\n",
    "bubble_chart('GPA', 'employment') #todo change it to smthng meaningful , what do colors indicate \n",
    "boxplot('weight')"
   ]
  },
  {
   "cell_type": "code",
   "execution_count": null,
   "metadata": {
    "collapsed": true
   },
   "outputs": [],
   "source": [
    "#TODO\n",
    "# cusine & weight\n",
    "# current diet & eating changes\n",
    "# weight & eating out\n",
    "# weight & exercise \n",
    "# nutritional_check\n",
    "# on_off_campu\n",
    "# parents_cook\n",
    "# sports"
   ]
  },
  {
   "cell_type": "code",
   "execution_count": null,
   "metadata": {
    "collapsed": true
   },
   "outputs": [],
   "source": [
    "#print len(data.query('Gender == 1')), len(data.query('Gender == 2'))"
   ]
  },
  {
   "cell_type": "code",
   "execution_count": null,
   "metadata": {
    "collapsed": true
   },
   "outputs": [],
   "source": [
    "#data.father_profession.unique()"
   ]
  }
 ],
 "metadata": {
  "kernelspec": {
   "display_name": "Python 2",
   "language": "python",
   "name": "python2"
  },
  "language_info": {
   "codemirror_mode": {
    "name": "ipython",
    "version": 2
   },
   "file_extension": ".py",
   "mimetype": "text/x-python",
   "name": "python",
   "nbconvert_exporter": "python",
   "pygments_lexer": "ipython2",
   "version": "2.7.13"
  }
 },
 "nbformat": 4,
 "nbformat_minor": 2
}
