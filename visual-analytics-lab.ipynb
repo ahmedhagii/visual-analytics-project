{
 "cells": [
  {
   "cell_type": "markdown",
   "metadata": {},
   "source": [
    "### Import and Configuration:"
   ]
  },
  {
   "cell_type": "code",
   "execution_count": null,
   "metadata": {
    "collapsed": true
   },
   "outputs": [],
   "source": [
    "import numpy as np\n",
    "import pandas as pd\n",
    "import random\n",
    "import matplotlib.pyplot as plt\n",
    "from wordcloud import WordCloud\n",
    "from sklearn.decomposition import PCA\n",
    "from IPython.core.display import display, HTML\n",
    "\n",
    "import seaborn as sns\n",
    "from sklearn.cluster import KMeans\n",
    "from IPython.html.widgets import interact\n",
    "\n",
    "display(HTML(\"\"\"\n",
    "<style>\n",
    ".output_png{\n",
    "    display: table-cell;\n",
    "    text-align: left;\n",
    "    vertical-align: middle;\n",
    "}\n",
    ".container{width:90% !important;}\n",
    "</style>\"\"\"))\n",
    "\n",
    "random.seed(149)"
   ]
  },
  {
   "cell_type": "code",
   "execution_count": null,
   "metadata": {
    "collapsed": true
   },
   "outputs": [],
   "source": [
    "def loaddata():\n",
    "    return pd.read_csv('food_coded.csv')\n",
    "data = loaddata()"
   ]
  },
  {
   "cell_type": "markdown",
   "metadata": {},
   "source": [
    "## Preprocessing:"
   ]
  },
  {
   "cell_type": "markdown",
   "metadata": {},
   "source": [
    "#### Employment:"
   ]
  },
  {
   "cell_type": "code",
   "execution_count": null,
   "metadata": {},
   "outputs": [],
   "source": [
    "# employment, sample from prob dist and fill the missing values\n",
    "probibility = data['employment'].value_counts() / data['employment'].value_counts().sum().tolist()\n",
    "count_of_nas = pd.isna(data['employment']).sum()\n",
    "values = probibility.cumsum().searchsorted(np.random.uniform(size=count_of_nas))\n",
    "for i in xrange(len(values)):\n",
    "    if values[i] == 0: values[i] = 2\n",
    "    elif values[i] == 1: values[i] = 3\n",
    "    else: values[i] = 1\n",
    "index = 0\n",
    "for i in xrange(len(data.employment)):\n",
    "    if pd.isnull(data.iloc[i].employment):\n",
    "        data.loc[i, 'employment'] = values[index]\n",
    "        index += 1"
   ]
  },
  {
   "cell_type": "markdown",
   "metadata": {},
   "source": [
    "#### Sports:\n",
    "\n",
    "We took a look on the students' answers and compiled a list of their sports, then replaced their text answers with a comma seperated list of the sports they played. Morever, we replaced any other answers like \"I don't play sports\" and \"not really\" with an NA"
   ]
  },
  {
   "cell_type": "code",
   "execution_count": null,
   "metadata": {},
   "outputs": [],
   "source": [
    "sports = ['car racing', 'basketball', 'softball', 'soccer', 'field hockey', 'running', 'volleyball', 'hockey', \\\n",
    "          'dancing', 'tennis', 'gym', 'football', 'lacrosse', 'snowboarding', 'wrestling', 'rowing', 'skiing', \\\n",
    "          'water polo', 'baseball', 'horse back riding', 'golf']\n",
    "sports.sort(key=len, reverse=True)\n",
    "\n",
    "def func(x):\n",
    "    output = ''\n",
    "    for sport in sports:\n",
    "        if pd.isnull(x): continue\n",
    "        x = x.lower()\n",
    "        if x.find(sport) != -1:\n",
    "            output += sport + ','\n",
    "            x.replace(sport, '')\n",
    "    if len(output) == 0: return 'None'\n",
    "    return output[:-1]\n",
    "data.type_sports = data.type_sports.apply(func=func)"
   ]
  },
  {
   "cell_type": "code",
   "execution_count": null,
   "metadata": {},
   "outputs": [],
   "source": [
    "column_names = ['GPA',\n",
    " 'Gender',\n",
    " 'breakfast',\n",
    " 'calories_chicken',\n",
    " 'calories_scone',\n",
    " 'coffee',\n",
    " 'cook',\n",
    " 'comfort_food_reasons_coded',\n",
    " 'cuisine',\n",
    " 'diet_current_coded',\n",
    " 'drink',\n",
    " 'eating_changes_coded',\n",
    " 'eating_changes_coded1',\n",
    " 'eating_out',\n",
    " 'employment',\n",
    " 'ethnic_food',\n",
    " 'exercise',\n",
    " 'father_education',\n",
    " 'fav_cuisine_coded',\n",
    " 'fav_food',\n",
    " 'fries',\n",
    " 'fruit_day',\n",
    " 'grade_level',\n",
    " 'greek_food',\n",
    " 'healthy_feeling',\n",
    " 'ideal_diet_coded',\n",
    " 'income',\n",
    " 'indian_food',\n",
    " 'italian_food',\n",
    " 'life_rewarding',\n",
    " 'marital_status',\n",
    " 'mother_education',\n",
    " 'nutritional_check',\n",
    " 'on_off_campus',\n",
    " 'parents_cook',\n",
    " 'pay_meal_out',\n",
    " 'persian_food',\n",
    " 'self_perception_weight',\n",
    " 'soup',\n",
    " 'sports',\n",
    " 'thai_food',\n",
    " 'tortilla_calories',\n",
    " 'turkey_calories',\n",
    " 'veggies_day',\n",
    " 'waffle_calories',\n",
    " 'weight']"
   ]
  },
  {
   "cell_type": "code",
   "execution_count": null,
   "metadata": {},
   "outputs": [],
   "source": [
    "weight_mean = np.nanmean(data['weight'])\n",
    "data.weight = data.weight.fillna(weight_mean)\n",
    "for col in data.columns:\n",
    "    data.loc[:,col] = data[col].fillna(data[col].mode()[0])"
   ]
  },
  {
   "cell_type": "markdown",
   "metadata": {},
   "source": [
    "## Plots:\n",
    "### First: descriptive statistics:"
   ]
  },
  {
   "cell_type": "code",
   "execution_count": null,
   "metadata": {
    "collapsed": true
   },
   "outputs": [],
   "source": [
    "def bar_chart(attribute, ticks_values,label):\n",
    "    plt.clf()\n",
    "    plt.rcParams['figure.figsize'] = (7,7)\n",
    "    y = data[attribute].value_counts()\n",
    "    N = len(y)\n",
    "    x = range(N)\n",
    "    width = 0.5\n",
    "    plt.bar(x, y, width, color=sns.color_palette(\"Pastel1\"))\n",
    "    plt.xlabel(label, fontsize=16)\n",
    "    plt.ylabel('Count', fontsize=16)\n",
    "    plt.tick_params(axis='both',which='major', labelsize=15)\n",
    "    index = ind = np.arange(len(x)) \n",
    "    \n",
    "    plt.xticks(index, ticks_values)\n",
    "\n",
    "    plt.tight_layout()\n",
    "    plt.show()\n",
    "\n",
    "def piechart():\n",
    "    labels = ['Female', 'Male']\n",
    "    sizes = [sum(data.Gender == 1), sum(data.Gender == 2)]\n",
    "    explode = [0,0]\n",
    "    plt.pie(sizes, labels=labels,colors = sns.color_palette(\"Pastel1\"), autopct = '%1.1f%%')\n",
    "    #plt.axis('equal')\n",
    "    plt.show()\n",
    "\n",
    "piechart()\n",
    "bar_chart('grade_level',('freshman' ,'Sophomore' ,'Junior' ,'Senior'),'Grade level')\n",
    "bar_chart('diet_current_coded',('healthy' ,'unhelathy' ,'same thing' ,'unclear'),'current diet')\n",
    "bar_chart('eating_changes_coded',('worse' ,'better' ,'same' ,'unclear'),'eating changes coded')"
   ]
  },
  {
   "cell_type": "code",
   "execution_count": null,
   "metadata": {
    "collapsed": true
   },
   "outputs": [],
   "source": [
    "def word_cloud(attribute,title):\n",
    "    wordcloud = WordCloud(background_color='white',colormap='Dark2').generate(str(data[attribute]))\n",
    "    plt.rcParams['figure.figsize'] = (12,10)\n",
    "    plt.imshow(wordcloud)\n",
    "    plt.title(title, fontsize=20)\n",
    "    plt.box(on=True)\n",
    "    plt.axis('off')\n",
    "    plt.show()\n",
    "word_cloud('comfort_food','Comfort Food')\n",
    "word_cloud('comfort_food_reasons', 'Comfort Food Reasons')\n",
    "word_cloud('food_childhood', 'Favorite food in childhood')\n",
    "word_cloud('type_sports', 'Type of sport practiced')"
   ]
  },
  {
   "cell_type": "markdown",
   "metadata": {},
   "source": [
    "### Second: relation between attributes:"
   ]
  },
  {
   "cell_type": "code",
   "execution_count": null,
   "metadata": {},
   "outputs": [],
   "source": [
    "def boxplot(attribute):\n",
    "    plt.figure(dpi=100, figsize=(10,10))\n",
    "    plt.rc('axes', axisbelow=True)\n",
    "    plt.boxplot([list(data.query('Gender==1')[attribute].dropna()), list(data.query('Gender==2')[attribute].dropna())], labels=[\"Male\", \"Female\"])\n",
    "    plt.rc('axes', axisbelow=True)\n",
    "    plt.xlabel(attribute)\n",
    "    plt.show()\n",
    "\n",
    "def bubble_chart(x_attribute, x_ticks, y_attribute, y_ticks, size):\n",
    "    plt.clf()\n",
    "    plt.rcParams['figure.figsize'] = (25,15)\n",
    "    fig, ax = plt.subplots()\n",
    "    \n",
    "    x_axis = data[x_attribute].round(decimals=1).dropna().unique()\n",
    "    for mark in x_axis:\n",
    "        y_axis =  data.query('%s == %f' % (x_attribute, mark))[y_attribute].dropna().unique()\n",
    "        y_axis.sort()\n",
    "        s = [(size * 20 * len(data.query('%s == %f & %s == %f' % (x_attribute, mark, y_attribute, i) ))) ** 2 for i in y_axis]\n",
    "        x = [mark]*len(y_axis)\n",
    "        plt.scatter(x, y_axis, s = s, color=\"#00ace6\", alpha=0.6,edgecolors=\"black\", linewidth=2)\n",
    "\n",
    "    if len(y_ticks) == 0:\n",
    "        y_ticks = data[y_attribute].round(decimals=1).dropna().unique()\n",
    "    plt.yticks(range(len(y_ticks)), y_ticks)\n",
    "\n",
    "    plt.tick_params\n",
    "    if len(x_ticks) != 0:\n",
    "        ax.set_xticklabels(x_ticks)\n",
    "    plt.ylabel(y_attribute, fontsize= 16)\n",
    "    plt.xlabel(x_attribute, fontsize= 16)\n",
    "    plt.tick_params(axis='both', which='major', labelsize=15)\n",
    "    plt.margins(0.1)\n",
    "    plt.show()\n",
    "    \n",
    "def grouped_barchart(x_attribute, x_labels, y_attribute, legend, legend_title, plot_title=''):\n",
    "    plt.clf()\n",
    "    plt.rcParams['figure.figsize'] = (25,10)\n",
    "    fig, ax = plt.subplots()\n",
    "\n",
    "    x_axis_unique = data[x_attribute].round(decimals=1).dropna().unique()\n",
    "    x_axis_unique.sort()\n",
    "\n",
    "    y_axis_unique = data[y_attribute].round(decimals=1).dropna().unique()\n",
    "    y_axis_unique.sort()\n",
    "\n",
    "    ind = np.arange(len(x_axis_unique))    # the x locations for the groups\n",
    "    width = 0.15                           # the width of the bars\n",
    "    likert_colors = sns.color_palette(\"Pastel1\")\n",
    "    for i in xrange(len(y_axis_unique)):\n",
    "        y = y_axis_unique[i]\n",
    "        counts = []\n",
    "        for x in x_axis_unique:\n",
    "            counts += [len(data.query('%s == %f & %s == %f' % (x_attribute, x, y_attribute, y)))]\n",
    "        plt.bar(ind + i*width, counts, width, bottom=0, color=likert_colors[i])\n",
    "    \n",
    "    if plot_title == '': plot_title = ('%s vs %s' % (x_attribute.replace('_', ' '), y_attribute.replace('_', ' ')))\n",
    "    ax.set_title(plot_title,  fontsize=20)\n",
    "    ax.set_xticks(ind + 1*width / 2)\n",
    "    ax.set_xticklabels(x_labels)\n",
    "\n",
    "    plt.xlabel(x_attribute, fontsize=20)\n",
    "    plt.ylabel('Count', fontsize=20)\n",
    "    plt.tick_params(axis='both', which='major', labelsize=15)\n",
    "    plt_legend = plt.legend(legend, title=legend_title, fontsize=15)\n",
    "    plt_legend.get_title().set_fontsize('15')\n",
    "    plt.show()\n",
    "    \n",
    "def horizontal_barchart(y_attribute, y_ticks, x_attribute, legend=[], legend_title='', plot_title=''):\n",
    "    plt.clf()\n",
    "    plt.rcParams['figure.figsize'] = (25,10)\n",
    "\n",
    "    x_axis_unique = data[x_attribute].round(decimals=1).dropna().unique()\n",
    "    x_axis_unique.sort()\n",
    "\n",
    "    y_axis_unique = data[y_attribute].round(decimals=1).dropna().unique()\n",
    "    y_axis_unique.sort()\n",
    "\n",
    "    ind = np.arange(len(x_axis_unique))    # the x locations for the groups\n",
    "    likert_colors = sns.color_palette('Pastel1')\n",
    "    all_counts1 = []\n",
    "    all_counts2 = []\n",
    "    for i in xrange(len(y_axis_unique)):\n",
    "        y = y_axis_unique[i]\n",
    "        counts1 = []\n",
    "        counts2 = []\n",
    "        counts1 += [len(data.query('%s == %f & %s == %f & Gender == 1' % (x_attribute, x, y_attribute, y))) for x in x_axis_unique]\n",
    "        counts2 += [-len(data.query('%s == %f & %s == %f & Gender == 2' % (x_attribute, x, y_attribute, y))) for x in x_axis_unique]\n",
    "        all_counts1 += [counts1]\n",
    "        all_counts2 += [counts2]\n",
    "\n",
    "    xvalues = range(-30, 30, 5)\n",
    "    male_data = pd.DataFrame(all_counts1,\n",
    "                    columns=x_axis_unique,\n",
    "                    index=y_axis_unique)\n",
    "    ax = male_data.plot.barh(color=likert_colors,  edgecolor='none', legend=False)\n",
    "    \n",
    "    female_data = pd.DataFrame(all_counts2,\n",
    "                    columns=x_axis_unique,\n",
    "                    index=y_axis_unique)\n",
    "    female_data.plot.barh(color= likert_colors, edgecolor='none', ax = ax)\n",
    "    \n",
    "    plt.legend(legend)\n",
    "    plt.yticks(range(len(y_ticks)), y_ticks)\n",
    "    plt.tick_params(axis='both', which='major', labelsize=15)\n",
    "\n",
    "    plt_legend = plt.legend(legend, title=legend_title, fontsize=15)\n",
    "    plt_legend.get_title().set_fontsize('15')\n",
    "    plt.axvline(x=0, color='black', alpha=0.6, linestyle='-')\n",
    "    plt.show()"
   ]
  },
  {
   "cell_type": "code",
   "execution_count": null,
   "metadata": {
    "collapsed": true
   },
   "outputs": [],
   "source": [
    "grouped_barchart('eating_out', ['Never', '1-2 times', '2-3 times', '3-5 times', 'everyday'],\n",
    "                 'nutritional_check', ['Never', 'on certain products only', 'very rarely', 'on most products', 'on everything'], 'How Often do you Check Nutrition')\n",
    "\n",
    "grouped_barchart('eating_out', ['Never', '1-2 times', '2-3 times', '3-5 times', 'everyday'], \n",
    "                 'Gender', ['female','male'], 'Eating out for Males & Females')\n",
    "# grouped_barchart('eating_out', ['Never', '1-2 times', '2-3 times', '3-5 times', 'everyday'], 'on_off_campus', ['On campus', 'rent out of campus', 'with parents', 'own house'], 'Accommodation', 'Students accommodation and eating out habbits')\n",
    "\n",
    "grouped_barchart('diet_current_coded',['healthy' ,'unhelathy' ,'same thing' ,'unclear'],\n",
    "                 'eating_changes_coded',['worse' ,'better' ,'same' ,'unclear'], 'Current Diet ')\n",
    "\n",
    "bubble_chart('weight', [], 'fav_cuisine_coded',\n",
    "             [\"none\", \"Italian/French/greek\", \"Spanish/mexican\", \"Arabic/Turkish\", \"asian/chineses/thai/nepal\", \"American\", \"African\", \"Jamaican\", \"indian\"] , 0.9)"
   ]
  },
  {
   "cell_type": "markdown",
   "metadata": {},
   "source": [
    "### TODO: ADD comments"
   ]
  },
  {
   "cell_type": "code",
   "execution_count": null,
   "metadata": {
    "collapsed": true
   },
   "outputs": [],
   "source": [
    "boxplot('weight')"
   ]
  },
  {
   "cell_type": "markdown",
   "metadata": {},
   "source": [
    "### TODO: Comments"
   ]
  },
  {
   "cell_type": "code",
   "execution_count": null,
   "metadata": {
    "collapsed": true
   },
   "outputs": [],
   "source": [
    "horizontal_barchart('exercise', ['Daily', 'once a week', 'twice a week'], 'eating_out', \n",
    "                    legend = ['Never', '1-2 times', '2-3 times', '3-5 times', 'everyday'])\n",
    "\n",
    "#Female = 1 , Male = 2\n",
    "\n",
    "\n",
    "\n",
    "\n"
   ]
  },
  {
   "cell_type": "markdown",
   "metadata": {},
   "source": [
    "### TODO: ADD comments"
   ]
  },
  {
   "cell_type": "code",
   "execution_count": null,
   "metadata": {
    "collapsed": true
   },
   "outputs": [],
   "source": [
    "horizontal_barchart('exercise', ['Daily', 'once a week', 'twice a week'], 'eating_out', legend = ['Never', '1-2 times', '2-3 times', '3-5 times', 'everyday'])"
   ]
  },
  {
   "cell_type": "markdown",
   "metadata": {},
   "source": [
    "### TODO: ADD comments"
   ]
  },
  {
   "cell_type": "markdown",
   "metadata": {},
   "source": [
    "## PCA:"
   ]
  },
  {
   "cell_type": "code",
   "execution_count": null,
   "metadata": {
    "collapsed": true
   },
   "outputs": [],
   "source": [
    "clustering_data = pd.DataFrame(data.loc[:, column_names])\n",
    "pca =  PCA(n_components=2)\n",
    "fit = pca.fit(clustering_data).transform(clustering_data)\n",
    "matrix = fit.transpose()"
   ]
  },
  {
   "cell_type": "code",
   "execution_count": null,
   "metadata": {
    "collapsed": true
   },
   "outputs": [],
   "source": [
    "colors = sns.color_palette(n_colors=15)\n",
    "categorical_columns = [col for col in clustering_data.columns if len(clustering_data[col].unique()) < 5]\n",
    "\n",
    "@interact(n_clusters=(1,10), group_by=categorical_columns)\n",
    "def draw_plot(n_clusters, group_by):\n",
    "    plt.clf()\n",
    "    \n",
    "    plt.rcParams['figure.figsize'] = (18, 15)\n",
    "    instance = KMeans(n_clusters=n_clusters, random_state = 102)\n",
    "    clusters_assignment = instance.fit_predict(clustering_data)\n",
    "        \n",
    "    plt.subplot(221)\n",
    "    plt.scatter(matrix[0], matrix[1], s=50, c=[colors[i] for i in clusters_assignment])\n",
    "    plt.title(\"K-means Clusters\", fontsize=20)\n",
    "\n",
    "    plt.subplot(222)\n",
    "    column_unique_values = clustering_data[group_by].unique()\n",
    "    plt.scatter(matrix[0], matrix[1], s=50, c=[colors[ind] for ind, val in enumerate(column_unique_values, 1)])\n",
    "    plt.title(\"Clusters By '%s' Column\" % group_by, fontsize=20)\n",
    "    plt.show()"
   ]
  },
  {
   "cell_type": "code",
   "execution_count": null,
   "metadata": {
    "collapsed": true
   },
   "outputs": [],
   "source": [
    "# colors = sns.color_palette(n_colors=15)\n",
    "# categorical_columns = [col for col in clustering_data.columns if len(clustering_data[col].unique()) < 5]\n",
    "# clusters_assignment = []\n",
    "\n",
    "\n",
    "# @interact(n_clusters=(1,10), group_by=categorical_columns, choice=(1, 10), reset=False)\n",
    "# def draw_plot(n_clusters, group_by, choice, reset):\n",
    "#     global clustering_data\n",
    "#     global clusters_assignment\n",
    "#     plt.clf()\n",
    "#     if choice > n_clusters:\n",
    "#         print \"Your choosen cluster cannot exceed n_clusters\"\n",
    "#         return\n",
    "#     if reset:\n",
    "#         clustering_data = pd.DataFrame(data.loc[:, column_names])\n",
    "#     else:\n",
    "#         indices = list(np.where(clusters_assignment == choice)[0])\n",
    "#         print indices\n",
    "#         clustering_data = clustering_data.loc[indices, :]\n",
    "#     print clustering_data\n",
    "    \n",
    "    \n",
    "#     pca =  PCA(n_components=2)\n",
    "#     fit = pca.fit(clustering_data).transform(clustering_data)\n",
    "\n",
    "#     matrix = fit.transpose()\n",
    "\n",
    "\n",
    "#     plt.rcParams['figure.figsize'] = (17, 15)\n",
    "#     instance = KMeans(n_clusters=n_clusters, random_state = 102)\n",
    "#     clusters_assignment = instance.fit_predict(clustering_data)\n",
    "#     print clusters_assignment\n",
    "    \n",
    "# #         print reset\n",
    "# # #         reset = False\n",
    "# #         return\n",
    "# #     else:\n",
    "# #         clustering_data = clustering_data.loc[clusters_assignment == choice,:]\n",
    "    \n",
    "#     plt.subplot(221)\n",
    "#     plt.scatter(matrix[0], matrix[1], s=20, c=[colors[i] for i in clusters_assignment])\n",
    "\n",
    "#     plt.subplot(222)\n",
    "#     column_unique_values = clustering_data[group_by].unique()\n",
    "#     plt.scatter(matrix[0], matrix[1], s=40, c=[colors[ind] for ind, val in enumerate(column_unique_values, 1)])\n",
    "#     plt.show()"
   ]
  },
  {
   "cell_type": "code",
   "execution_count": null,
   "metadata": {},
   "outputs": [],
   "source": [
    "#TODO\n",
    "# cusine & weight\n",
    "\n",
    "# current diet & eating changes\n",
    "# weight & eating out\n",
    "# weight & exercise \n",
    "# nutritional_check\n",
    "# on_off_campu\n",
    "# parents_cook\n",
    "# sports\n",
    "\n",
    "\n",
    "#\n",
    "#data.Gender.value_counts()\n"
   ]
  },
  {
   "cell_type": "code",
   "execution_count": null,
   "metadata": {},
   "outputs": [],
   "source": []
  }
 ],
 "metadata": {
  "kernelspec": {
   "display_name": "Python 2",
   "language": "python",
   "name": "python2"
  },
  "language_info": {
   "codemirror_mode": {
    "name": "ipython",
    "version": 2
   },
   "file_extension": ".py",
   "mimetype": "text/x-python",
   "name": "python",
   "nbconvert_exporter": "python",
   "pygments_lexer": "ipython2",
   "version": "2.7.13"
  }
 },
 "nbformat": 4,
 "nbformat_minor": 2
}
