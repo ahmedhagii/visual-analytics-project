{
 "cells": [
  {
   "cell_type": "markdown",
   "metadata": {},
   "source": [
    "### Import and Configuration:"
   ]
  },
  {
   "cell_type": "code",
   "execution_count": null,
   "metadata": {
    "collapsed": true
   },
   "outputs": [],
   "source": [
    "import numpy as np\n",
    "import pandas as pd\n",
    "import random\n",
    "import matplotlib.pyplot as plt\n",
    "from wordcloud import WordCloud\n",
    "from sklearn.decomposition import PCA\n",
    "from IPython.core.display import display, HTML\n",
    "\n",
    "import seaborn as sns\n",
    "from sklearn.cluster import KMeans\n",
    "from ipywidgets import interact\n",
    "\n",
    "display(HTML(\"\"\"\n",
    "<style>\n",
    ".output_png{\n",
    "    display: table-cell;\n",
    "    text-align: left;\n",
    "    vertical-align: middle;\n",
    "}\n",
    ".container{width:90% !important;}\n",
    "</style>\"\"\"))\n",
    "\n",
    "random.seed(149)"
   ]
  },
  {
   "cell_type": "code",
   "execution_count": null,
   "metadata": {},
   "outputs": [],
   "source": [
    "def loaddata():\n",
    "    return pd.read_csv('food_coded.csv')\n",
    "data = loaddata()"
   ]
  },
  {
   "cell_type": "markdown",
   "metadata": {},
   "source": [
    "## Preprocessing:"
   ]
  },
  {
   "cell_type": "markdown",
   "metadata": {},
   "source": [
    "#### Employment:\n",
    "\n",
    "For this column we will count the probability distribution then we will fill the NAs by sampling from it."
   ]
  },
  {
   "cell_type": "code",
   "execution_count": null,
   "metadata": {},
   "outputs": [],
   "source": [
    "probibility = data['employment'].value_counts() / data['employment'].value_counts().sum().tolist()\n",
    "count_of_nas = pd.isna(data['employment']).sum()\n",
    "values = probibility.cumsum().searchsorted(np.random.uniform(size=count_of_nas))\n",
    "for i in xrange(len(values)):\n",
    "    if values[i] == 0: values[i] = 2\n",
    "    elif values[i] == 1: values[i] = 3\n",
    "    else: values[i] = 1\n",
    "index = 0\n",
    "for i in xrange(len(data.employment)):\n",
    "    if pd.isnull(data.iloc[i].employment):\n",
    "        data.loc[i, 'employment'] = values[index]\n",
    "        index += 1"
   ]
  },
  {
   "cell_type": "markdown",
   "metadata": {},
   "source": [
    "#### Sports:\n",
    "\n",
    "We took a look on the students' answers and compiled a list of their sports, then replaced their text answers with a comma seperated list of the sports they played. Morever, we replaced any other answers like \"I don't play sports\" and \"not really\" with a 'None'"
   ]
  },
  {
   "cell_type": "code",
   "execution_count": null,
   "metadata": {},
   "outputs": [],
   "source": [
    "sports = ['car racing', 'basketball', 'softball', 'soccer', 'field hockey', 'running', 'volleyball', 'hockey', \\\n",
    "          'dancing', 'tennis', 'gym', 'football', 'lacrosse', 'snowboarding', 'wrestling', 'rowing', 'skiing', \\\n",
    "          'water polo', 'baseball', 'horse back riding', 'golf']\n",
    "sports.sort(key=len, reverse=True)\n",
    "\n",
    "def func(x):\n",
    "    output = ''\n",
    "    for sport in sports:\n",
    "        if pd.isnull(x): continue\n",
    "        x = x.lower()\n",
    "        if x.find(sport) != -1:\n",
    "            output += sport + ','\n",
    "            x.replace(sport, '')\n",
    "    if len(output) == 0: return 'None'\n",
    "    return output[:-1]\n",
    "data.type_sports = data.type_sports.apply(func=func)"
   ]
  },
  {
   "cell_type": "markdown",
   "metadata": {},
   "source": [
    "#### Weight:\n",
    "\n",
    "For this feature we filled the NAs by setting them to the mean of the column."
   ]
  },
  {
   "cell_type": "code",
   "execution_count": null,
   "metadata": {},
   "outputs": [],
   "source": [
    "weight_mean = np.nanmean(data['weight'])\n",
    "data.weight = data.weight.fillna(weight_mean)"
   ]
  },
  {
   "cell_type": "markdown",
   "metadata": {},
   "source": [
    "#### Reamining Features:\n",
    "\n",
    "Most of the remaining features are categorical responses, so using the mean here is not applicable becaus we will introduce values that are not part of the categories. Therefore, we chose the mode as our filling method."
   ]
  },
  {
   "cell_type": "code",
   "execution_count": null,
   "metadata": {},
   "outputs": [],
   "source": [
    "for col in data.columns:\n",
    "    data.loc[:,col] = data[col].fillna(data[col].mode()[0])"
   ]
  },
  {
   "cell_type": "markdown",
   "metadata": {},
   "source": [
    "## Plots:\n",
    "### First: descriptive statistics:\n",
    "\n",
    "Here we'll define some plotting functions to plot single features e.g. 'Weight', 'Gender', 'Current Diet'...."
   ]
  },
  {
   "cell_type": "code",
   "execution_count": null,
   "metadata": {
    "collapsed": true
   },
   "outputs": [],
   "source": [
    "def bar_chart(attribute, ticks_values,label, position):\n",
    "    plt.subplot(position)\n",
    "    y = data[attribute].value_counts()\n",
    "    N = len(y)\n",
    "    x = range(N)\n",
    "    width = 0.5\n",
    "\n",
    "    plt.bar(x, y, width, color=sns.color_palette(\"Pastel1\"))\n",
    "    plt.xlabel(label, fontsize=16)\n",
    "    plt.ylabel('Count', fontsize=16)\n",
    "    plt.tick_params(axis='both',which='major', labelsize=15)\n",
    "    index = ind = np.arange(len(x)) \n",
    "    plt.xticks(index, ticks_values)\n",
    "    plt.tight_layout()\n",
    "\n",
    "def piechart(position):\n",
    "    labels = ['Female', 'Male']\n",
    "    sizes = [sum(data.Gender == 1), sum(data.Gender == 2)]\n",
    "    explode = [0,0]\n",
    "    plt.subplot(position)\n",
    "    patches, texts, autotexts = plt.pie(sizes, labels=labels,colors = sns.color_palette(\"Pastel1\"), autopct = '%1.1f%%')\n",
    "    plt.tick_params(axis='both',which='major', labelsize=15)\n",
    "    texts[0].set_fontsize(15)\n",
    "    texts[1].set_fontsize(15)\n",
    "    autotexts[0].set_fontsize(15)\n",
    "    autotexts[1].set_fontsize(15)\n",
    "\n",
    "\n",
    "plt.rcParams['figure.figsize'] = (15,20)\n",
    "bar_chart('grade_level',('freshman' ,'Sophomore' ,'Junior' ,'Senior'),'Grade Level', 321)\n",
    "piechart(322)\n",
    "bar_chart('diet_current_coded',('healthy' ,'unhelathy' ,'same food everyday' ,'unclear'),'Current Diet', 323)\n",
    "bar_chart('eating_changes_coded',('worse' ,'better' ,'same' ,'unclear'),'Diet Changes Since College', 324)\n",
    "\n",
    "plt.subplot(325)\n",
    "plt.hist(data.GPA, color='lightcoral')\n",
    "plt.title(\"GPA Histogram\", fontsize=20, position=(0.2, 0.9))\n",
    "plt.ylabel(\"Count\", fontsize=15)\n",
    "plt.xlabel(\"GPA\", fontsize=15)\n",
    "plt.tick_params(axis='both', which='major', labelsize=15)\n",
    "plt.show()"
   ]
  },
  {
   "cell_type": "markdown",
   "metadata": {},
   "source": [
    "----\n",
    "\n",
    "Our data contained features with open ended responses as text. A wordcloud can be a good option to visualize such features.\n"
   ]
  },
  {
   "cell_type": "code",
   "execution_count": null,
   "metadata": {
    "collapsed": true
   },
   "outputs": [],
   "source": [
    "def word_cloud(attribute,title):\n",
    "    wordcloud = WordCloud(background_color='white',colormap='Dark2').generate(str(data[attribute]))\n",
    "    plt.rcParams['figure.figsize'] = (12,10)\n",
    "    plt.imshow(wordcloud)\n",
    "    plt.title(title, fontsize=20)\n",
    "    plt.box(on=True)\n",
    "    plt.axis('off')\n",
    "    plt.show()\n",
    "word_cloud('comfort_food','Comfort Food')\n",
    "word_cloud('comfort_food_reasons', 'Comfort Food Reasons')\n",
    "word_cloud('food_childhood', 'Favorite food in childhood')\n",
    "word_cloud('type_sports', 'Type of sport practiced')"
   ]
  },
  {
   "cell_type": "markdown",
   "metadata": {},
   "source": [
    "### Second: relation between attributes:\n",
    "\n",
    "Defining some plotting funcitons for re-usability  when plotting different features against eachother."
   ]
  },
  {
   "cell_type": "code",
   "execution_count": null,
   "metadata": {
    "collapsed": true
   },
   "outputs": [],
   "source": [
    "def boxplot(attribute):\n",
    "    plt.figure(dpi=100, figsize=(10,10))\n",
    "    plt.rc('axes', axisbelow=True)\n",
    "    plt.boxplot([list(data.query('Gender==1')[attribute].dropna()), list(data.query('Gender==2')[attribute].dropna())], labels=[\"Female\", \"Male\"])\n",
    "    plt.rc('axes', axisbelow=True)\n",
    "    plt.xlabel(str.capitalize(attribute), fontsize=20)\n",
    "    plt.title(str.capitalize(attribute) + ' Boxplot')\n",
    "    plt.tick_params(axis='both', which='major', labelsize=15)\n",
    "    plt.grid(True)\n",
    "    y_ticks = np.arange(data[attribute].min(), data[attribute].max(), 15)\n",
    "    plt.yticks(y_ticks)\n",
    "    plt.show()\n",
    "\n",
    "def bubble_chart(x_attribute, x_ticks, y_attribute, y_ticks, size, y_label=''):\n",
    "    plt.clf()\n",
    "    plt.rcParams['figure.figsize'] = (25,15)\n",
    "    fig, ax = plt.subplots()\n",
    "    \n",
    "    x_axis = data[x_attribute].round(decimals=1).dropna().unique()\n",
    "    for mark in x_axis:\n",
    "        y_axis =  data.query('%s == %f' % (x_attribute, mark))[y_attribute].dropna().unique()\n",
    "        y_axis.sort()\n",
    "        s = [(size * 20 * len(data.query('%s == %f & %s == %f' % (x_attribute, mark, y_attribute, i) ))) ** 2 for i in y_axis]\n",
    "        x = [mark]*len(y_axis)\n",
    "        plt.scatter(x, y_axis, s = s, color=\"#00ace6\", alpha=0.6,edgecolors=\"black\", linewidth=2)\n",
    "\n",
    "    if len(y_ticks) == 0:\n",
    "        y_ticks = data[y_attribute].round(decimals=1).dropna().unique()\n",
    "    plt.yticks(range(len(y_ticks)), y_ticks)\n",
    "\n",
    "    plt.tick_params\n",
    "    if len(x_ticks) != 0:\n",
    "        ax.set_xticklabels(x_ticks)\n",
    "    plt.ylabel(y_label, fontsize= 15)\n",
    "    plt.xlabel(str.capitalize(x_attribute), fontsize= 15)\n",
    "    plt.tick_params(axis='both', which='major', labelsize=15)\n",
    "    plt.margins(0.1)\n",
    "    plt.show()\n",
    "    \n",
    "def grouped_barchart(x_attribute, x_labels, y_attribute, legend, legend_title, plot_title='', x_label=''):\n",
    "    plt.clf()\n",
    "    plt.rcParams['figure.figsize'] = (25,10)\n",
    "    fig, ax = plt.subplots()\n",
    "\n",
    "    x_axis_unique = data[x_attribute].round(decimals=1).dropna().unique()\n",
    "    x_axis_unique.sort()\n",
    "\n",
    "    y_axis_unique = data[y_attribute].round(decimals=1).dropna().unique()\n",
    "    y_axis_unique.sort()\n",
    "\n",
    "    ind = np.arange(len(x_axis_unique))    # the x locations for the groups\n",
    "    width = 0.15                           # the width of the bars\n",
    "    likert_colors = sns.color_palette(\"Pastel1\")\n",
    "    for i in xrange(len(y_axis_unique)):\n",
    "        y = y_axis_unique[i]\n",
    "        counts = []\n",
    "        for x in x_axis_unique:\n",
    "            counts += [len(data.query('%s == %f & %s == %f' % (x_attribute, x, y_attribute, y)))]\n",
    "        plt.bar(ind + i*width, counts, width, bottom=0, color=likert_colors[i])\n",
    "    \n",
    "    if plot_title == '': plot_title = ('%s vs %s' % (x_attribute.replace('_', ' '), y_attribute.replace('_', ' ')))\n",
    "    ax.set_title(plot_title,  fontsize=20)\n",
    "    ax.set_xticks(ind + 4*width / 2)\n",
    "    ax.set_xticklabels(x_labels)\n",
    "    \n",
    "    if x_label == '': x_label = x_attribute\n",
    "    plt.xlabel(x_label, fontsize=20)\n",
    "    plt.ylabel('Count', fontsize=20)\n",
    "    plt.tick_params(axis='both', which='major', labelsize=15)\n",
    "    plt_legend = plt.legend(legend, title=legend_title, fontsize=15)\n",
    "    plt_legend.get_title().set_fontsize('15')\n",
    "    plt.show()\n",
    "    \n",
    "def horizontal_barchart(y_attribute, y_ticks, x_attribute, legend=[], legend_title='', plot_title='', y_label=''):\n",
    "    plt.clf()\n",
    "    plt.rcParams['figure.figsize'] = (25,13)\n",
    "\n",
    "    x_axis_unique = data[x_attribute].round(decimals=1).dropna().unique()\n",
    "    x_axis_unique.sort()\n",
    "\n",
    "    y_axis_unique = data[y_attribute].round(decimals=1).dropna().unique()\n",
    "    y_axis_unique.sort()\n",
    "\n",
    "    ind = np.arange(len(x_axis_unique))    # the x locations for the groups\n",
    "    likert_colors = sns.color_palette('Pastel1')\n",
    "    all_counts1 = []\n",
    "    all_counts2 = []\n",
    "    for i in xrange(len(y_axis_unique)):\n",
    "        y = y_axis_unique[i]\n",
    "        counts1 = []\n",
    "        counts2 = []\n",
    "        counts1 += [len(data.query('%s == %f & %s == %f & Gender == 1' % (x_attribute, x, y_attribute, y))) for x in x_axis_unique]\n",
    "        counts2 += [-len(data.query('%s == %f & %s == %f & Gender == 2' % (x_attribute, x, y_attribute, y))) for x in x_axis_unique]\n",
    "        all_counts1 += [counts1]\n",
    "        all_counts2 += [counts2]\n",
    "\n",
    "    xvalues = range(-15, 20, 5)\n",
    "    male_data = pd.DataFrame(all_counts1,\n",
    "                    columns=x_axis_unique,\n",
    "                    index=y_axis_unique)\n",
    "    ax = male_data.plot.barh(color=likert_colors,  edgecolor='none', legend=False)\n",
    "    \n",
    "    female_data = pd.DataFrame(all_counts2,\n",
    "                    columns=x_axis_unique,\n",
    "                    index=y_axis_unique)\n",
    "    female_data.plot.barh(color= likert_colors, edgecolor='none', ax = ax)\n",
    "    \n",
    "    plt.legend(legend)\n",
    "    plt.xticks(xvalues)\n",
    "    plt.yticks(range(len(y_ticks)), y_ticks)\n",
    "    plt.tick_params(axis='both', which='major', labelsize=15)\n",
    "    plt.xlabel(\"Male                                    Female\", fontsize=30)\n",
    "    plt.ylabel(y_label, fontsize=20)\n",
    "    plt_legend = plt.legend(legend, title=legend_title, fontsize=15)\n",
    "    plt_legend.get_title().set_fontsize('15')\n",
    "    plt.axvline(x=0, color='black', alpha=0.6, linestyle='-')\n",
    "    plt.grid()\n",
    "    plt.show()"
   ]
  },
  {
   "cell_type": "markdown",
   "metadata": {},
   "source": [
    "## Hypotheses:"
   ]
  },
  {
   "cell_type": "markdown",
   "metadata": {},
   "source": [
    "- **People who are on a healthy diet most likely to answer that their diet change since college is either 'same' or 'better', while 'unhealthy' people will most likely say that it has gotten 'worse' or 'same'.**\n",
    "\n"
   ]
  },
  {
   "cell_type": "code",
   "execution_count": null,
   "metadata": {
    "collapsed": true
   },
   "outputs": [],
   "source": [
    "grouped_barchart(x_attribute='diet_current_coded', x_labels=['Healthy' ,'Unhelathy' ,'Same Food Everyday' ,'Unclear'],\n",
    "                 y_attribute='eating_changes_coded', legend=['worse' ,'better' ,'same' ,'unclear'], legend_title='Diet Changes Since College',\n",
    "                 plot_title='Current Diet / Diet Changes Since College', x_label='Current Diet')"
   ]
  },
  {
   "cell_type": "markdown",
   "metadata": {},
   "source": [
    "The above plot shows that 'Unhealthy' people answered 'Worse' when asked about their diet change and 'Healthy' answered 'Better'. Morever, people who said they eat the same food everyday think that it's a worse diet since they don't have varieties."
   ]
  },
  {
   "cell_type": "markdown",
   "metadata": {},
   "source": [
    "- ** Students who eat out more frequently are more likely to ingore the nutritional facts of what they eat. Since eating out in geenral means less control over what nutritions you get.**"
   ]
  },
  {
   "cell_type": "code",
   "execution_count": null,
   "metadata": {
    "collapsed": true
   },
   "outputs": [],
   "source": [
    "grouped_barchart(x_attribute='eating_out', x_labels=['Never', '1-2 times', '2-3 times', '3-5 times', 'everyday'],\n",
    "                 y_attribute='nutritional_check', legend=['Never', 'on certain products only', 'very rarely', 'on most products', 'on everything'],\n",
    "                 legend_title='How Often do you Check Nutritions', plot_title='Eating Out Frequency / Nutritional Check', x_label='Eating Out Frequency')"
   ]
  },
  {
   "cell_type": "markdown",
   "metadata": {},
   "source": [
    "What the above plot tells us is that students are usually in the middle regarding this issue as they check nutritions on some of the products and only very few students on one of the extremes, either never checking or always checking."
   ]
  },
  {
   "cell_type": "markdown",
   "metadata": {},
   "source": [
    "- **Trying to look for a relation between students' weight and their fav cuisines**"
   ]
  },
  {
   "cell_type": "code",
   "execution_count": null,
   "metadata": {
    "collapsed": true
   },
   "outputs": [],
   "source": [
    "bubble_chart(x_attribute='weight', x_ticks=[], y_attribute='fav_cuisine_coded',\n",
    "             y_ticks=[\"None\", \"Italian/French/Greek\", \"Spanish/Mexican\", \"Arabic/Turkish\", \"Asian/Chineses/Thai/Nepal\", \"American\", \"African\",\n",
    "                      \"Jamaican\", \"Indian\"], size=0.9)"
   ]
  },
  {
   "cell_type": "markdown",
   "metadata": {},
   "source": [
    "Most students favor the Italian cuisine (as expected) because pizza and pasta are what comes to mind as italian food and from the wordclouds above, we saw that pizza and pasta were the most common choices as childhood favorite food. After seeing the above results and that most of the weights are in the range 110-200. We decided to plot a boxplt of the weight divided by Gender."
   ]
  },
  {
   "cell_type": "code",
   "execution_count": null,
   "metadata": {
    "collapsed": true
   },
   "outputs": [],
   "source": [
    "boxplot('weight')"
   ]
  },
  {
   "cell_type": "code",
   "execution_count": null,
   "metadata": {
    "collapsed": true
   },
   "outputs": [],
   "source": [
    "bubble_chart(x_attribute='weight', x_ticks=[], y_attribute='self_perception_weight',\n",
    "             y_ticks=[\"\", \"Slim\", \"Very Fit\", \"Just Right\", \"Slightly Overweight\", \"Overweight\", \"I don't think my self in these terms\"], size=0.9,\n",
    "            y_label = 'Self Perception Weight')"
   ]
  },
  {
   "cell_type": "code",
   "execution_count": null,
   "metadata": {
    "collapsed": true
   },
   "outputs": [],
   "source": [
    "horizontal_barchart(y_attribute='eating_out', y_ticks=['Never', '1-2 times', '2-3 times', '3-5 times', 'Everyday'],\n",
    "                    x_attribute='cook', legend=['Everyday', 'Couple of times/week', 'Not very often', 'During holidays', 'Never'],\n",
    "                    legend_title='How often students cook', y_label='Eating Out Freq')"
   ]
  },
  {
   "cell_type": "markdown",
   "metadata": {},
   "source": [
    "Females: most of them don't cook very often (the green bars are the highest) regardless the freq of eating out.\n",
    "\n",
    "Males: Their responses were somehow equally distributed on the answers"
   ]
  },
  {
   "cell_type": "code",
   "execution_count": null,
   "metadata": {
    "collapsed": true
   },
   "outputs": [],
   "source": [
    "horizontal_barchart('exercise', ['Daily', 'once a week', 'twice a week'], \n",
    "                    'eating_out', legend = ['Never', '1-2 times', '2-3 times', '3-5 times', 'everyday'], \n",
    "                    legend_title='Eating out freq', y_label='Exercise')"
   ]
  },
  {
   "cell_type": "markdown",
   "metadata": {},
   "source": [
    "## PCA:"
   ]
  },
  {
   "cell_type": "markdown",
   "metadata": {},
   "source": [
    "For the PCA computations we wanted features that are numeric so we compiled the below list of features."
   ]
  },
  {
   "cell_type": "code",
   "execution_count": null,
   "metadata": {},
   "outputs": [],
   "source": [
    "column_names = ['GPA',\n",
    " 'Gender',\n",
    " 'breakfast',\n",
    " 'calories_chicken',\n",
    " 'calories_scone',\n",
    " 'coffee',\n",
    " 'cook',\n",
    " 'comfort_food_reasons_coded',\n",
    " 'cuisine',\n",
    " 'diet_current_coded',\n",
    " 'drink',\n",
    " 'eating_changes_coded',\n",
    " 'eating_changes_coded1',\n",
    " 'eating_out',\n",
    " 'employment',\n",
    " 'ethnic_food',\n",
    " 'exercise',\n",
    " 'father_education',\n",
    " 'fav_cuisine_coded',\n",
    " 'fav_food',\n",
    " 'fries',\n",
    " 'fruit_day',\n",
    " 'grade_level',\n",
    " 'greek_food',\n",
    " 'healthy_feeling',\n",
    " 'ideal_diet_coded',\n",
    " 'income',\n",
    " 'indian_food',\n",
    " 'italian_food',\n",
    " 'life_rewarding',\n",
    " 'marital_status',\n",
    " 'mother_education',\n",
    " 'nutritional_check',\n",
    " 'on_off_campus',\n",
    " 'parents_cook',\n",
    " 'pay_meal_out',\n",
    " 'persian_food',\n",
    " 'self_perception_weight',\n",
    " 'soup',\n",
    " 'sports',\n",
    " 'thai_food',\n",
    " 'tortilla_calories',\n",
    " 'turkey_calories',\n",
    " 'veggies_day',\n",
    " 'waffle_calories',\n",
    " 'weight']"
   ]
  },
  {
   "cell_type": "code",
   "execution_count": null,
   "metadata": {},
   "outputs": [],
   "source": [
    "clustering_data = pd.DataFrame(data.loc[:, column_names])\n",
    "pca =  PCA(n_components=2)\n",
    "fit = pca.fit(clustering_data).transform(clustering_data)\n",
    "matrix = fit.transpose()"
   ]
  },
  {
   "cell_type": "code",
   "execution_count": null,
   "metadata": {
    "collapsed": true
   },
   "outputs": [],
   "source": [
    "colors = sns.color_palette(n_colors=15)\n",
    "categorical_columns = [col for col in clustering_data.columns if len(clustering_data[col].unique()) < 5]\n",
    "\n",
    "@interact(n_clusters=(1,10), group_by=categorical_columns)\n",
    "def draw_plot(n_clusters, group_by):\n",
    "    plt.clf()\n",
    "    plt.rcParams['figure.figsize'] = (18, 15)\n",
    "    instance = KMeans(n_clusters=n_clusters, random_state = 102)\n",
    "    clusters_assignment = instance.fit_predict(clustering_data)\n",
    "        \n",
    "    plt.subplot(221)\n",
    "    plt.scatter(matrix[0], matrix[1], s=50, c=[colors[i] for i in clusters_assignment])\n",
    "    plt.title(\"K-means Clusters\", fontsize=20)\n",
    "\n",
    "    plt.subplot(222)\n",
    "    column_unique_values = clustering_data[group_by].unique()\n",
    "    plt.scatter(matrix[0], matrix[1], s=50, c=[colors[ind] for ind, val in enumerate(column_unique_values, 1)])\n",
    "    plt.title(\"Clusters By '%s' Column\" % group_by, fontsize=20)\n",
    "    plt.show()"
   ]
  },
  {
   "cell_type": "markdown",
   "metadata": {},
   "source": [
    "We applied PCA to reduce the dimensions to 2 and the ran our K-Means clustering algorithm. As seen above, there were some pretty good defined clusters in our data. However, the plot on the right is coloring the points by the chosen feature in group_by and none of them succeeded to seperate the clusters."
   ]
  }
 ],
 "metadata": {
  "kernelspec": {
   "display_name": "Python 2",
   "language": "python",
   "name": "python2"
  },
  "language_info": {
   "codemirror_mode": {
    "name": "ipython",
    "version": 2
   },
   "file_extension": ".py",
   "mimetype": "text/x-python",
   "name": "python",
   "nbconvert_exporter": "python",
   "pygments_lexer": "ipython2",
   "version": "2.7.14"
  }
 },
 "nbformat": 4,
 "nbformat_minor": 2
}
